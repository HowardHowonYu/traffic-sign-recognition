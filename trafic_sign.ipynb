{
 "cells": [
  {
   "cell_type": "markdown",
   "metadata": {},
   "source": [
    "# CNN을 이용한 표지판 분류 "
   ]
  },
  {
   "cell_type": "markdown",
   "metadata": {},
   "source": [
    "- ### Step1 : 도로교통공단 교통안전표지 일람표에서 표지판 이미지 추출\n",
    "  - 출처 : https://www.koroad.or.kr/kp_web/safeDataView.do?board_code=DTBBS_030&board_num=100162\n",
    "\n",
    "- ## Step 2 : Image Augementation 진행\n",
    "  - 실제 표지판 분류에 활용될 영상을 고려햐여, 회전, 휘어짐 정도, 명도, 각도 등을 고려\n",
    "\n",
    "- ## Step 3 : 모델링\n",
    "\n",
    "- ## Step 4 : 검증"
   ]
  },
  {
   "cell_type": "markdown",
   "metadata": {},
   "source": [
    "## image augementation"
   ]
  },
  {
   "cell_type": "code",
   "execution_count": 9,
   "metadata": {
    "ExecuteTime": {
     "end_time": "2020-06-01T03:11:17.400050Z",
     "start_time": "2020-06-01T03:11:17.396432Z"
    }
   },
   "outputs": [],
   "source": [
    "path = './traffin_sign_png/'\n",
    "full_names = os.listdir(path)\n",
    "labels = sorted([each.split('.')[0] for each in full_names])"
   ]
  },
  {
   "cell_type": "code",
   "execution_count": 20,
   "metadata": {
    "ExecuteTime": {
     "end_time": "2020-06-01T02:17:36.971600Z",
     "start_time": "2020-06-01T01:55:45.372370Z"
    }
   },
   "outputs": [
    {
     "data": {
      "application/vnd.jupyter.widget-view+json": {
       "model_id": "4a147662b9494950bc0295da92b8eafc",
       "version_major": 2,
       "version_minor": 0
      },
      "text/plain": [
       "HBox(children=(IntProgress(value=0, max=68), HTML(value='')))"
      ]
     },
     "metadata": {},
     "output_type": "display_data"
    },
    {
     "name": "stdout",
     "output_type": "stream",
     "text": [
      "\n"
     ]
    }
   ],
   "source": [
    "# example of brighting image augmentation\n",
    "from tqdm.notebook import tqdm\n",
    "from numpy import expand_dims\n",
    "from keras.preprocessing.image import load_img\n",
    "from keras.preprocessing.image import img_to_array\n",
    "from keras.preprocessing.image import ImageDataGenerator\n",
    "\n",
    "import cv2\n",
    "import os, glob, numpy as np\n",
    "\n",
    "os.mkdir('./traffic_image')\n",
    "\n",
    "range_ = tqdm(labels)\n",
    "for dir_num in range_:\n",
    "    # 이미지 로드\n",
    "    img = load_img(\"./traffin_sign_png/{}.png\".format(dir_num))\n",
    "    # Numpy array 로 변환\n",
    "    data = img_to_array(img)\n",
    "    # expand dimension to one sample\n",
    "    samples = expand_dims(data, 0)\n",
    "    # image data augmentation generator 생성\n",
    "    datagen = ImageDataGenerator(\n",
    "        brightness_range=[0.2,2.0],\n",
    "        zoom_range=[0.3,1],\n",
    "        rotation_range=20,\n",
    "        height_shift_range=0.2,\n",
    "        width_shift_range=0.2)\n",
    "    # prepare iterator\n",
    "    it = datagen.flow(samples, batch_size=1)\n",
    "    os.mkdir('./traffic_image/{}'.format(dir_num))\n",
    "\n",
    "    for i in range(1000):\n",
    "        batch = it.next()\n",
    "        image = batch[0].astype(\"uint8\")    \n",
    "        # rgb 변환 : 데이터 사이언스 스쿨 참조\n",
    "        b, g, r = cv2.split(image)\n",
    "        img_astro3_rgb = cv2.merge([r, g, b])\n",
    "        cv2.imwrite(\"./traffic_image/{}/{}_{}.png\".format(dir_num, dir_num, i), img_astro3_rgb)"
   ]
  },
  {
   "cell_type": "markdown",
   "metadata": {
    "ExecuteTime": {
     "end_time": "2020-05-08T07:19:25.189159Z",
     "start_time": "2020-05-08T07:19:25.187048Z"
    }
   },
   "source": [
    "# X, Y 설정, Train, Test split"
   ]
  },
  {
   "cell_type": "code",
   "execution_count": 26,
   "metadata": {
    "ExecuteTime": {
     "end_time": "2020-06-01T02:20:19.680045Z",
     "start_time": "2020-06-01T02:19:06.041149Z"
    },
    "scrolled": true
   },
   "outputs": [
    {
     "name": "stdout",
     "output_type": "stream",
     "text": [
      "101  파일 길이 :  1000\n",
      "102  파일 길이 :  1000\n",
      "103  파일 길이 :  1000\n",
      "104  파일 길이 :  1000\n",
      "105  파일 길이 :  1000\n",
      "106  파일 길이 :  1000\n",
      "107  파일 길이 :  1000\n",
      "108  파일 길이 :  1000\n",
      "109  파일 길이 :  1000\n",
      "110  파일 길이 :  1000\n",
      "111  파일 길이 :  1000\n",
      "112  파일 길이 :  1000\n",
      "113  파일 길이 :  1000\n",
      "114  파일 길이 :  1000\n",
      "115  파일 길이 :  1000\n",
      "116  파일 길이 :  1000\n",
      "117  파일 길이 :  1000\n",
      "118  파일 길이 :  1000\n",
      "119  파일 길이 :  1000\n",
      "120  파일 길이 :  1000\n",
      "121  파일 길이 :  1000\n",
      "122  파일 길이 :  1000\n",
      "123  파일 길이 :  1000\n",
      "124  파일 길이 :  1000\n",
      "125  파일 길이 :  1000\n",
      "126  파일 길이 :  1000\n",
      "127  파일 길이 :  1000\n",
      "128  파일 길이 :  1000\n",
      "129  파일 길이 :  1000\n",
      "130  파일 길이 :  1000\n",
      "131  파일 길이 :  1000\n",
      "132  파일 길이 :  1000\n",
      "133  파일 길이 :  1000\n",
      "134  파일 길이 :  1000\n",
      "135  파일 길이 :  1000\n",
      "136  파일 길이 :  1000\n",
      "137  파일 길이 :  1000\n",
      "138  파일 길이 :  1000\n",
      "139  파일 길이 :  1000\n",
      "140  파일 길이 :  1000\n",
      "141  파일 길이 :  1000\n",
      "201  파일 길이 :  1000\n",
      "202  파일 길이 :  1000\n",
      "203  파일 길이 :  1000\n",
      "204  파일 길이 :  1000\n",
      "205  파일 길이 :  1000\n",
      "206  파일 길이 :  1000\n",
      "207  파일 길이 :  1000\n",
      "210  파일 길이 :  1000\n",
      "211  파일 길이 :  1000\n",
      "212  파일 길이 :  1000\n",
      "213  파일 길이 :  1000\n",
      "214  파일 길이 :  1000\n",
      "216  파일 길이 :  1000\n",
      "217  파일 길이 :  1000\n",
      "218  파일 길이 :  1000\n",
      "219  파일 길이 :  1000\n",
      "220  파일 길이 :  1000\n",
      "221  파일 길이 :  1000\n",
      "222  파일 길이 :  1000\n",
      "223  파일 길이 :  1000\n",
      "224  파일 길이 :  1000\n",
      "225  파일 길이 :  1000\n",
      "226  파일 길이 :  1000\n",
      "227  파일 길이 :  1000\n",
      "228  파일 길이 :  1000\n",
      "230  파일 길이 :  1000\n",
      "231  파일 길이 :  1000\n"
     ]
    }
   ],
   "source": [
    "from PIL import Image\n",
    "import os, glob, numpy as np\n",
    "from sklearn.model_selection import train_test_split\n",
    "\n",
    "caltech_dir = \"./traffic_image/\"\n",
    "categories = labels\n",
    "nb_classes = len(labels)\n",
    "\n",
    "image_w = 32\n",
    "image_h = 32\n",
    "\n",
    "pixels = image_h * image_w * 3\n",
    "\n",
    "X = []\n",
    "y = []\n",
    "\n",
    "for idx, cat in enumerate(categories):\n",
    "    \n",
    "#   one-hot 돌리기.\n",
    "    label = [0 for i in range(nb_classes)]\n",
    "    label[idx] = 1\n",
    "\n",
    "    image_dir = caltech_dir + \"/\" + str(cat)\n",
    "    files = glob.glob(image_dir+\"/*.png\")\n",
    "    print(cat, \" 파일 길이 : \", len(files))\n",
    "    # 이미지 파일을 32 x 32 로 줄이고, 벡터화 시켜 X에 저장, one-hot-encoding된 라벨도 저장\n",
    "    for i, f in enumerate(files):\n",
    "        img = Image.open(f)\n",
    "        img = img.convert(\"RGB\")\n",
    "        img = img.resize((image_w, image_h))\n",
    "        data = np.asarray(img)\n",
    "        \n",
    "        X.append(data)\n",
    "        y.append(label)\n",
    "\n",
    "X = np.array(X)\n",
    "y = np.array(y)\n",
    "#1 0 0 0 이면 airplanes\n",
    "#0 1 0 0 이면 buddha 이런식"
   ]
  },
  {
   "cell_type": "code",
   "execution_count": 27,
   "metadata": {
    "ExecuteTime": {
     "end_time": "2020-06-01T02:20:24.328488Z",
     "start_time": "2020-06-01T02:20:24.185039Z"
    }
   },
   "outputs": [],
   "source": [
    "X_train, X_test, y_train, y_test = train_test_split(X, y)\n",
    "xy = (X_train, X_test, y_train, y_test)"
   ]
  },
  {
   "cell_type": "code",
   "execution_count": 28,
   "metadata": {
    "ExecuteTime": {
     "end_time": "2020-06-01T02:20:25.177709Z",
     "start_time": "2020-06-01T02:20:25.174114Z"
    },
    "scrolled": true
   },
   "outputs": [
    {
     "data": {
      "text/plain": [
       "(51000, 32, 32, 3)"
      ]
     },
     "execution_count": 28,
     "metadata": {},
     "output_type": "execute_result"
    }
   ],
   "source": [
    "X_train.shape"
   ]
  },
  {
   "cell_type": "code",
   "execution_count": 29,
   "metadata": {
    "ExecuteTime": {
     "end_time": "2020-06-01T02:20:25.964191Z",
     "start_time": "2020-06-01T02:20:25.960540Z"
    }
   },
   "outputs": [
    {
     "data": {
      "text/plain": [
       "(3468000, 1)"
      ]
     },
     "execution_count": 29,
     "metadata": {},
     "output_type": "execute_result"
    }
   ],
   "source": [
    "y_train_test = y_train.reshape(-1,1)\n",
    "y_train_test.shape"
   ]
  },
  {
   "cell_type": "code",
   "execution_count": 30,
   "metadata": {
    "ExecuteTime": {
     "end_time": "2020-06-01T02:20:27.002217Z",
     "start_time": "2020-06-01T02:20:26.998392Z"
    }
   },
   "outputs": [
    {
     "data": {
      "text/plain": [
       "(51000, 68)"
      ]
     },
     "execution_count": 30,
     "metadata": {},
     "output_type": "execute_result"
    }
   ],
   "source": [
    "y_train.shape"
   ]
  },
  {
   "cell_type": "code",
   "execution_count": null,
   "metadata": {},
   "outputs": [],
   "source": []
  },
  {
   "cell_type": "code",
   "execution_count": 4,
   "metadata": {
    "ExecuteTime": {
     "end_time": "2020-06-01T01:26:18.380863Z",
     "start_time": "2020-06-01T01:26:18.376646Z"
    }
   },
   "outputs": [
    {
     "data": {
      "text/plain": [
       "(30750, 32, 32, 3)"
      ]
     },
     "execution_count": 4,
     "metadata": {},
     "output_type": "execute_result"
    }
   ],
   "source": [
    "X_train.shape"
   ]
  },
  {
   "cell_type": "code",
   "execution_count": 5,
   "metadata": {
    "ExecuteTime": {
     "end_time": "2020-06-01T01:26:18.387525Z",
     "start_time": "2020-06-01T01:26:18.382873Z"
    }
   },
   "outputs": [
    {
     "data": {
      "text/plain": [
       "(1260750, 1)"
      ]
     },
     "execution_count": 5,
     "metadata": {},
     "output_type": "execute_result"
    }
   ],
   "source": [
    "y_train_test = y_train.reshape(-1,1)\n",
    "y_train_test.shape"
   ]
  },
  {
   "cell_type": "code",
   "execution_count": 6,
   "metadata": {
    "ExecuteTime": {
     "end_time": "2020-06-01T01:26:18.392819Z",
     "start_time": "2020-06-01T01:26:18.389684Z"
    }
   },
   "outputs": [
    {
     "data": {
      "text/plain": [
       "(30750, 41)"
      ]
     },
     "execution_count": 6,
     "metadata": {},
     "output_type": "execute_result"
    }
   ],
   "source": [
    "y_train.shape"
   ]
  },
  {
   "cell_type": "markdown",
   "metadata": {},
   "source": [
    "# npy파일로 저장\n",
    "- 행렬값 저장"
   ]
  },
  {
   "cell_type": "code",
   "execution_count": 31,
   "metadata": {
    "ExecuteTime": {
     "end_time": "2020-06-01T02:20:30.874784Z",
     "start_time": "2020-06-01T02:20:30.203317Z"
    }
   },
   "outputs": [],
   "source": [
    "import pickle \n",
    "pickle.dump(xy, open(\"./model/multi_image_data.npy\", 'wb'), protocol=4)"
   ]
  },
  {
   "cell_type": "code",
   "execution_count": 1,
   "metadata": {
    "ExecuteTime": {
     "end_time": "2020-06-01T03:10:38.580463Z",
     "start_time": "2020-06-01T03:10:38.218925Z"
    }
   },
   "outputs": [],
   "source": [
    "X_train, X_test, y_train, y_test = np.load('./model/multi_image_data.npy',allow_pickle=True)"
   ]
  },
  {
   "cell_type": "code",
   "execution_count": 2,
   "metadata": {
    "ExecuteTime": {
     "end_time": "2020-06-01T03:10:39.067552Z",
     "start_time": "2020-06-01T03:10:39.063032Z"
    }
   },
   "outputs": [
    {
     "data": {
      "text/plain": [
       "(51000, 32, 32, 3)"
      ]
     },
     "execution_count": 2,
     "metadata": {},
     "output_type": "execute_result"
    }
   ],
   "source": [
    "X_train.shape"
   ]
  },
  {
   "cell_type": "code",
   "execution_count": 3,
   "metadata": {
    "ExecuteTime": {
     "end_time": "2020-06-01T03:10:39.417991Z",
     "start_time": "2020-06-01T03:10:39.414438Z"
    }
   },
   "outputs": [
    {
     "data": {
      "text/plain": [
       "(51000, 68)"
      ]
     },
     "execution_count": 3,
     "metadata": {},
     "output_type": "execute_result"
    }
   ],
   "source": [
    "y_train.shape"
   ]
  },
  {
   "cell_type": "markdown",
   "metadata": {},
   "source": [
    "# 모델링"
   ]
  },
  {
   "cell_type": "code",
   "execution_count": 4,
   "metadata": {
    "ExecuteTime": {
     "end_time": "2020-06-01T03:10:44.868494Z",
     "start_time": "2020-06-01T03:10:40.885878Z"
    }
   },
   "outputs": [
    {
     "name": "stderr",
     "output_type": "stream",
     "text": [
      "Using TensorFlow backend.\n"
     ]
    }
   ],
   "source": [
    "import os, glob, numpy as np\n",
    "from keras.models import Sequential\n",
    "from keras.layers import Conv2D, MaxPooling2D, Dense, Flatten, Dropout\n",
    "from keras.callbacks import EarlyStopping, ModelCheckpoint\n",
    "from keras.layers import BatchNormalization\n",
    "import matplotlib.pyplot as plt\n",
    "import keras.backend.tensorflow_backend as K\n",
    "\n",
    "\n",
    "# import tensorflow as tf\n",
    "# config = tf.ConfigProto()\n",
    "# config.gpu_options.allow_growth = True\n",
    "# session = tf.Session(config=config)\n",
    "\n",
    "# X_train, X_test, y_train, y_test = np.load('./numpy_data/multi_image_data.npy')\n",
    "# print(X_train.shape)\n",
    "# print(X_train.shape[0])"
   ]
  },
  {
   "cell_type": "code",
   "execution_count": 5,
   "metadata": {
    "ExecuteTime": {
     "end_time": "2020-06-01T03:10:44.872681Z",
     "start_time": "2020-06-01T03:10:44.870583Z"
    }
   },
   "outputs": [],
   "source": [
    "# int_list = list(range(101,142))\n",
    "# categories = list(map(str,int_list))\n",
    "# nb_classes = len(categories)\n",
    "\n"
   ]
  },
  {
   "cell_type": "markdown",
   "metadata": {},
   "source": [
    "# 픽셀값 정규화"
   ]
  },
  {
   "cell_type": "code",
   "execution_count": 6,
   "metadata": {
    "ExecuteTime": {
     "end_time": "2020-06-01T03:10:46.522332Z",
     "start_time": "2020-06-01T03:10:44.875173Z"
    }
   },
   "outputs": [],
   "source": [
    "# 일반화\n",
    "X_train = X_train.astype(float) / 255\n",
    "X_test = X_test.astype(float) / 255"
   ]
  },
  {
   "cell_type": "code",
   "execution_count": 17,
   "metadata": {
    "ExecuteTime": {
     "end_time": "2020-06-01T03:45:25.183301Z",
     "start_time": "2020-06-01T03:45:25.079026Z"
    }
   },
   "outputs": [],
   "source": [
    "nb_classes = len(labels)\n",
    "\n",
    "with K.tf_ops.device('/device:GPU:0'):\n",
    "    model = Sequential()\n",
    "    model.add(Conv2D(32, (3,3), padding=\"same\", input_shape=X_train.shape[1:], activation='relu'))\n",
    "    model.add(MaxPooling2D(pool_size=(2,2)))\n",
    "    model.add(Dropout(0.25))\n",
    "\n",
    "    model.add(Conv2D(64, (3,3), padding=\"same\", activation='relu'))\n",
    "    model.add(MaxPooling2D(pool_size=(2,2)))\n",
    "    model.add(Dropout(0.25))\n",
    "    \n",
    "    model.add(Conv2D(128, (3,3), padding=\"same\", activation='relu'))\n",
    "    model.add(MaxPooling2D(pool_size=(2,2)))\n",
    "    model.add(Dropout(0.25))\n",
    "\n",
    "    model.add(Flatten())\n",
    "    model.add(Dense(256, activation='relu'))\n",
    "    model.add(Dropout(0.5))\n",
    "    model.add(Dense(nb_classes, activation='softmax'))\n",
    "    \n",
    "    # 학습을 돌리는 방법을 정의 : cost function을 설정하고, 어떻게 최적화 할건지 방법을 정하고\n",
    "    model.compile(loss='categorical_crossentropy', optimizer='adam', metrics=['accuracy'])\n",
    "    model_dir = './model'\n",
    "\n",
    "    if not os.path.exists(model_dir):\n",
    "        os.mkdir(model_dir)\n",
    "\n",
    "    model_path = model_dir + '/multi_img_classification.model'\n",
    "    checkpoint = ModelCheckpoint(filepath=model_path , monitor='val_loss', verbose=1, save_best_only=True)\n",
    "    early_stopping = EarlyStopping(monitor='val_loss', patience=6)"
   ]
  },
  {
   "cell_type": "code",
   "execution_count": 18,
   "metadata": {
    "ExecuteTime": {
     "end_time": "2020-06-01T03:45:25.892246Z",
     "start_time": "2020-06-01T03:45:25.887726Z"
    },
    "scrolled": false
   },
   "outputs": [
    {
     "name": "stdout",
     "output_type": "stream",
     "text": [
      "Model: \"sequential_4\"\n",
      "_________________________________________________________________\n",
      "Layer (type)                 Output Shape              Param #   \n",
      "=================================================================\n",
      "conv2d_7 (Conv2D)            (None, 32, 32, 32)        896       \n",
      "_________________________________________________________________\n",
      "max_pooling2d_7 (MaxPooling2 (None, 16, 16, 32)        0         \n",
      "_________________________________________________________________\n",
      "dropout_10 (Dropout)         (None, 16, 16, 32)        0         \n",
      "_________________________________________________________________\n",
      "conv2d_8 (Conv2D)            (None, 16, 16, 64)        18496     \n",
      "_________________________________________________________________\n",
      "max_pooling2d_8 (MaxPooling2 (None, 8, 8, 64)          0         \n",
      "_________________________________________________________________\n",
      "dropout_11 (Dropout)         (None, 8, 8, 64)          0         \n",
      "_________________________________________________________________\n",
      "conv2d_9 (Conv2D)            (None, 8, 8, 128)         73856     \n",
      "_________________________________________________________________\n",
      "max_pooling2d_9 (MaxPooling2 (None, 4, 4, 128)         0         \n",
      "_________________________________________________________________\n",
      "dropout_12 (Dropout)         (None, 4, 4, 128)         0         \n",
      "_________________________________________________________________\n",
      "flatten_4 (Flatten)          (None, 2048)              0         \n",
      "_________________________________________________________________\n",
      "dense_6 (Dense)              (None, 256)               524544    \n",
      "_________________________________________________________________\n",
      "dropout_13 (Dropout)         (None, 256)               0         \n",
      "_________________________________________________________________\n",
      "dense_7 (Dense)              (None, 68)                17476     \n",
      "=================================================================\n",
      "Total params: 635,268\n",
      "Trainable params: 635,268\n",
      "Non-trainable params: 0\n",
      "_________________________________________________________________\n"
     ]
    }
   ],
   "source": [
    "model.summary()"
   ]
  },
  {
   "cell_type": "code",
   "execution_count": 19,
   "metadata": {
    "ExecuteTime": {
     "end_time": "2020-06-01T04:11:00.042162Z",
     "start_time": "2020-06-01T03:45:27.824961Z"
    }
   },
   "outputs": [
    {
     "name": "stdout",
     "output_type": "stream",
     "text": [
      "Train on 40800 samples, validate on 10200 samples\n",
      "Epoch 1/50\n",
      "40800/40800 [==============================] - 69s 2ms/step - loss: 2.5356 - accuracy: 0.2872 - val_loss: 1.0730 - val_accuracy: 0.6959\n",
      "\n",
      "Epoch 00001: val_loss improved from inf to 1.07297, saving model to ./model/multi_img_classification.model\n",
      "Epoch 2/50\n",
      "40800/40800 [==============================] - 75s 2ms/step - loss: 1.1216 - accuracy: 0.6399 - val_loss: 0.4956 - val_accuracy: 0.8531\n",
      "\n",
      "Epoch 00002: val_loss improved from 1.07297 to 0.49556, saving model to ./model/multi_img_classification.model\n",
      "Epoch 3/50\n",
      "40800/40800 [==============================] - 75s 2ms/step - loss: 0.7786 - accuracy: 0.7513 - val_loss: 0.3289 - val_accuracy: 0.9007\n",
      "\n",
      "Epoch 00003: val_loss improved from 0.49556 to 0.32895, saving model to ./model/multi_img_classification.model\n",
      "Epoch 4/50\n",
      "40800/40800 [==============================] - 72s 2ms/step - loss: 0.6171 - accuracy: 0.8035 - val_loss: 0.2487 - val_accuracy: 0.9192\n",
      "\n",
      "Epoch 00004: val_loss improved from 0.32895 to 0.24867, saving model to ./model/multi_img_classification.model\n",
      "Epoch 5/50\n",
      "40800/40800 [==============================] - 72s 2ms/step - loss: 0.5374 - accuracy: 0.8301 - val_loss: 0.2276 - val_accuracy: 0.9301\n",
      "\n",
      "Epoch 00005: val_loss improved from 0.24867 to 0.22757, saving model to ./model/multi_img_classification.model\n",
      "Epoch 6/50\n",
      "40800/40800 [==============================] - 71s 2ms/step - loss: 0.4882 - accuracy: 0.8471 - val_loss: 0.1838 - val_accuracy: 0.9408\n",
      "\n",
      "Epoch 00006: val_loss improved from 0.22757 to 0.18385, saving model to ./model/multi_img_classification.model\n",
      "Epoch 7/50\n",
      "40800/40800 [==============================] - 71s 2ms/step - loss: 0.4557 - accuracy: 0.8566 - val_loss: 0.1904 - val_accuracy: 0.9390\n",
      "\n",
      "Epoch 00007: val_loss did not improve from 0.18385\n",
      "Epoch 8/50\n",
      "40800/40800 [==============================] - 72s 2ms/step - loss: 0.4323 - accuracy: 0.8638 - val_loss: 0.1775 - val_accuracy: 0.9438\n",
      "\n",
      "Epoch 00008: val_loss improved from 0.18385 to 0.17755, saving model to ./model/multi_img_classification.model\n",
      "Epoch 9/50\n",
      "40800/40800 [==============================] - 73s 2ms/step - loss: 0.4131 - accuracy: 0.8713 - val_loss: 0.1669 - val_accuracy: 0.9466\n",
      "\n",
      "Epoch 00009: val_loss improved from 0.17755 to 0.16689, saving model to ./model/multi_img_classification.model\n",
      "Epoch 10/50\n",
      "40800/40800 [==============================] - 74s 2ms/step - loss: 0.4147 - accuracy: 0.8737 - val_loss: 0.1659 - val_accuracy: 0.9446\n",
      "\n",
      "Epoch 00010: val_loss improved from 0.16689 to 0.16589, saving model to ./model/multi_img_classification.model\n",
      "Epoch 11/50\n",
      "40800/40800 [==============================] - 72s 2ms/step - loss: 0.3984 - accuracy: 0.8804 - val_loss: 0.1651 - val_accuracy: 0.9461\n",
      "\n",
      "Epoch 00011: val_loss improved from 0.16589 to 0.16512, saving model to ./model/multi_img_classification.model\n",
      "Epoch 12/50\n",
      "40800/40800 [==============================] - 68s 2ms/step - loss: 0.3826 - accuracy: 0.8836 - val_loss: 0.1499 - val_accuracy: 0.9514\n",
      "\n",
      "Epoch 00012: val_loss improved from 0.16512 to 0.14990, saving model to ./model/multi_img_classification.model\n",
      "Epoch 13/50\n",
      "40800/40800 [==============================] - 66s 2ms/step - loss: 0.3769 - accuracy: 0.8861 - val_loss: 0.1467 - val_accuracy: 0.9530\n",
      "\n",
      "Epoch 00013: val_loss improved from 0.14990 to 0.14666, saving model to ./model/multi_img_classification.model\n",
      "Epoch 14/50\n",
      "40800/40800 [==============================] - 66s 2ms/step - loss: 0.3861 - accuracy: 0.8840 - val_loss: 0.1628 - val_accuracy: 0.9472\n",
      "\n",
      "Epoch 00014: val_loss did not improve from 0.14666\n",
      "Epoch 15/50\n",
      "40800/40800 [==============================] - 67s 2ms/step - loss: 0.3792 - accuracy: 0.8880 - val_loss: 0.1472 - val_accuracy: 0.9519\n",
      "\n",
      "Epoch 00015: val_loss did not improve from 0.14666\n",
      "Epoch 16/50\n",
      "40800/40800 [==============================] - 66s 2ms/step - loss: 0.3758 - accuracy: 0.8893 - val_loss: 0.1300 - val_accuracy: 0.9576\n",
      "\n",
      "Epoch 00016: val_loss improved from 0.14666 to 0.12996, saving model to ./model/multi_img_classification.model\n",
      "Epoch 17/50\n",
      "40800/40800 [==============================] - 66s 2ms/step - loss: 0.3761 - accuracy: 0.8900 - val_loss: 0.1376 - val_accuracy: 0.9566\n",
      "\n",
      "Epoch 00017: val_loss did not improve from 0.12996\n",
      "Epoch 18/50\n",
      "40800/40800 [==============================] - 67s 2ms/step - loss: 0.3754 - accuracy: 0.8906 - val_loss: 0.1374 - val_accuracy: 0.9562\n",
      "\n",
      "Epoch 00018: val_loss did not improve from 0.12996\n",
      "Epoch 19/50\n",
      "40800/40800 [==============================] - 67s 2ms/step - loss: 0.3788 - accuracy: 0.8912 - val_loss: 0.1620 - val_accuracy: 0.9510\n",
      "\n",
      "Epoch 00019: val_loss did not improve from 0.12996\n",
      "Epoch 20/50\n",
      "40800/40800 [==============================] - 67s 2ms/step - loss: 0.3670 - accuracy: 0.8935 - val_loss: 0.1370 - val_accuracy: 0.9560\n",
      "\n",
      "Epoch 00020: val_loss did not improve from 0.12996\n",
      "Epoch 21/50\n",
      "40800/40800 [==============================] - 67s 2ms/step - loss: 0.3623 - accuracy: 0.8963 - val_loss: 0.1358 - val_accuracy: 0.9575\n",
      "\n",
      "Epoch 00021: val_loss did not improve from 0.12996\n",
      "Epoch 22/50\n",
      "40800/40800 [==============================] - 67s 2ms/step - loss: 0.3756 - accuracy: 0.8940 - val_loss: 0.1601 - val_accuracy: 0.9479\n",
      "\n",
      "Epoch 00022: val_loss did not improve from 0.12996\n"
     ]
    }
   ],
   "source": [
    "history = model.fit(X_train, y_train, batch_size=10, epochs=50, validation_split=0.2, callbacks=[checkpoint, early_stopping])"
   ]
  },
  {
   "cell_type": "code",
   "execution_count": 20,
   "metadata": {
    "ExecuteTime": {
     "end_time": "2020-06-01T04:47:55.379106Z",
     "start_time": "2020-06-01T04:47:55.065123Z"
    }
   },
   "outputs": [
    {
     "data": {
      "text/plain": [
       "[<matplotlib.lines.Line2D at 0x1c1a4e04d0>]"
      ]
     },
     "execution_count": 20,
     "metadata": {},
     "output_type": "execute_result"
    },
    {
     "data": {
      "image/png": "[encoded data removed]",
      "text/plain": [
       "<Figure size 576x360 with 1 Axes>"
      ]
     },
     "metadata": {
      "image/png": {
       "height": 307,
       "width": 486
      },
      "needs_background": "light"
     },
     "output_type": "display_data"
    }
   ],
   "source": [
    "plt.plot(history.history['loss'])\n",
    "plt.plot(history.history['accuracy'])"
   ]
  },
  {
   "cell_type": "code",
   "execution_count": 21,
   "metadata": {
    "ExecuteTime": {
     "end_time": "2020-06-01T04:47:56.966512Z",
     "start_time": "2020-06-01T04:47:56.661500Z"
    }
   },
   "outputs": [
    {
     "data": {
      "image/png": "[encoded data removed]",
      "text/plain": [
       "<Figure size 576x360 with 1 Axes>"
      ]
     },
     "metadata": {
      "image/png": {
       "height": 307,
       "width": 486
      },
      "needs_background": "light"
     },
     "output_type": "display_data"
    }
   ],
   "source": [
    "plot_target = ['loss', 'val_loss', 'accuracy', 'val_accuracy']\n",
    "for each in plot_target:\n",
    "    plt.plot(history.history[each], label=each)\n",
    "    \n",
    "plt.legend()\n",
    "plt.show()"
   ]
  },
  {
   "cell_type": "code",
   "execution_count": 22,
   "metadata": {
    "ExecuteTime": {
     "end_time": "2020-06-01T08:50:03.771055Z",
     "start_time": "2020-06-01T08:49:59.239097Z"
    }
   },
   "outputs": [
    {
     "name": "stdout",
     "output_type": "stream",
     "text": [
      "17000/17000 [==============================] - 5s 265us/step\n"
     ]
    },
    {
     "data": {
      "text/plain": [
       "[0.15789765263369362, 0.9509412050247192]"
      ]
     },
     "execution_count": 22,
     "metadata": {},
     "output_type": "execute_result"
    }
   ],
   "source": [
    "model.evaluate(X_test, y_test)"
   ]
  },
  {
   "cell_type": "markdown",
   "metadata": {},
   "source": [
    "## 틀린애들 눈으로 확인"
   ]
  },
  {
   "cell_type": "code",
   "execution_count": 23,
   "metadata": {
    "ExecuteTime": {
     "end_time": "2020-06-01T08:50:06.243725Z",
     "start_time": "2020-06-01T08:50:05.530916Z"
    }
   },
   "outputs": [],
   "source": [
    "from keras.models import load_model\n",
    "model = load_model('model/multi_img_classification.model')"
   ]
  },
  {
   "cell_type": "code",
   "execution_count": 24,
   "metadata": {
    "ExecuteTime": {
     "end_time": "2020-06-01T08:50:11.049148Z",
     "start_time": "2020-06-01T08:50:06.915384Z"
    }
   },
   "outputs": [
    {
     "data": {
      "text/plain": [
       "array([66, 50, 36, 22,  5, 22, 61, 13, 17, 13])"
      ]
     },
     "execution_count": 24,
     "metadata": {},
     "output_type": "execute_result"
    }
   ],
   "source": [
    "import numpy as np\n",
    "\n",
    "predicted_result = model.predict(X_test)\n",
    "predicted_labels = np.argmax(predicted_result, axis=1)\n",
    "predicted_labels[:10]"
   ]
  },
  {
   "cell_type": "code",
   "execution_count": 25,
   "metadata": {
    "ExecuteTime": {
     "end_time": "2020-06-01T08:50:11.056145Z",
     "start_time": "2020-06-01T08:50:11.051365Z"
    }
   },
   "outputs": [
    {
     "data": {
      "text/plain": [
       "66"
      ]
     },
     "execution_count": 25,
     "metadata": {},
     "output_type": "execute_result"
    }
   ],
   "source": [
    "predicted_labels[0]"
   ]
  },
  {
   "cell_type": "code",
   "execution_count": 26,
   "metadata": {
    "ExecuteTime": {
     "end_time": "2020-06-01T08:50:11.062151Z",
     "start_time": "2020-06-01T08:50:11.058770Z"
    }
   },
   "outputs": [],
   "source": [
    "label = [0 for i in range(nb_classes)]\n",
    "label[predicted_labels[0]] = 1\n",
    "label = np.array(label)"
   ]
  },
  {
   "cell_type": "code",
   "execution_count": 27,
   "metadata": {
    "ExecuteTime": {
     "end_time": "2020-06-01T08:50:11.641259Z",
     "start_time": "2020-06-01T08:50:11.064571Z"
    }
   },
   "outputs": [],
   "source": [
    "y_labels = []\n",
    "for vector in y_test:\n",
    "    for idx, i in enumerate(vector):\n",
    "        if i != 0:\n",
    "            y_labels.append(idx)"
   ]
  },
  {
   "cell_type": "code",
   "execution_count": 28,
   "metadata": {
    "ExecuteTime": {
     "end_time": "2020-06-01T08:50:11.649232Z",
     "start_time": "2020-06-01T08:50:11.643366Z"
    }
   },
   "outputs": [
    {
     "data": {
      "text/plain": [
       "array([66, 50, 36, ..., 51, 20, 66])"
      ]
     },
     "execution_count": 28,
     "metadata": {},
     "output_type": "execute_result"
    }
   ],
   "source": [
    "y_labels = np.array(y_labels)\n",
    "y_labels"
   ]
  },
  {
   "cell_type": "code",
   "execution_count": 29,
   "metadata": {
    "ExecuteTime": {
     "end_time": "2020-06-01T08:50:11.655853Z",
     "start_time": "2020-06-01T08:50:11.651806Z"
    }
   },
   "outputs": [
    {
     "data": {
      "text/plain": [
       "array([66, 50, 36, ..., 51, 20, 66])"
      ]
     },
     "execution_count": 29,
     "metadata": {},
     "output_type": "execute_result"
    }
   ],
   "source": [
    "predicted_labels"
   ]
  },
  {
   "cell_type": "code",
   "execution_count": 30,
   "metadata": {
    "ExecuteTime": {
     "end_time": "2020-06-01T08:50:12.687130Z",
     "start_time": "2020-06-01T08:50:12.675496Z"
    }
   },
   "outputs": [
    {
     "data": {
      "text/plain": [
       "698"
      ]
     },
     "execution_count": 30,
     "metadata": {},
     "output_type": "execute_result"
    }
   ],
   "source": [
    "wrong_result = []\n",
    "\n",
    "for n in range(0, len(y_test)):\n",
    "    if predicted_labels[n] != y_labels[n]:\n",
    "        wrong_result.append(n)\n",
    "        \n",
    "len(wrong_result)"
   ]
  },
  {
   "cell_type": "code",
   "execution_count": 31,
   "metadata": {
    "ExecuteTime": {
     "end_time": "2020-06-01T08:50:13.164848Z",
     "start_time": "2020-06-01T08:50:13.160011Z"
    }
   },
   "outputs": [
    {
     "data": {
      "text/plain": [
       "[13554,\n",
       " 9372,\n",
       " 11077,\n",
       " 14064,\n",
       " 6856,\n",
       " 1173,\n",
       " 6117,\n",
       " 5684,\n",
       " 522,\n",
       " 16072,\n",
       " 7338,\n",
       " 4828,\n",
       " 12054,\n",
       " 12249,\n",
       " 3222,\n",
       " 12603]"
      ]
     },
     "execution_count": 31,
     "metadata": {},
     "output_type": "execute_result"
    }
   ],
   "source": [
    "import random\n",
    "\n",
    "samples = random.choices(population=wrong_result, k=16)\n",
    "samples"
   ]
  },
  {
   "cell_type": "code",
   "execution_count": 33,
   "metadata": {
    "ExecuteTime": {
     "end_time": "2020-06-01T08:50:21.058701Z",
     "start_time": "2020-06-01T08:50:18.334741Z"
    }
   },
   "outputs": [
    {
     "data": {
      "image/png": "[encoded data removed]",
      "text/plain": [
       "<Figure size 1008x864 with 16 Axes>"
      ]
     },
     "metadata": {
      "image/png": {
       "height": 682,
       "width": 767
      },
      "needs_background": "light"
     },
     "output_type": "display_data"
    }
   ],
   "source": [
    "plt.figure(figsize=(14,12))\n",
    "\n",
    "for idx, n in enumerate(samples):\n",
    "    plt.subplot(4, 4, idx+1)\n",
    "    plt.imshow(X_test[n].reshape(32,32,3), cmap='Greys', interpolation='nearest')\n",
    "    plt.title('Label : ' + str(y_labels[n] + 101 ) + ',  Predict : ' + str(predicted_labels[n] + 101))\n",
    "    plt.axis('off')\n",
    "\n",
    "plt.show()"
   ]
  },
  {
   "cell_type": "code",
   "execution_count": null,
   "metadata": {},
   "outputs": [],
   "source": []
  }
 ],
 "metadata": {
  "kernelspec": {
   "display_name": "Python 3",
   "language": "python",
   "name": "python3"
  },
  "language_info": {
   "codemirror_mode": {
    "name": "ipython",
    "version": 3
   },
   "file_extension": ".py",
   "mimetype": "text/x-python",
   "name": "python",
   "nbconvert_exporter": "python",
   "pygments_lexer": "ipython3",
   "version": "3.7.4"
  }
 },
 "nbformat": 4,
 "nbformat_minor": 2
}
